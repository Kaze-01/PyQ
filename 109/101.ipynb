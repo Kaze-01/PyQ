{
 "cells": [
  {
   "cell_type": "markdown",
   "metadata": {},
   "source": [
    "### 説明文\n",
    "\n",
    "機械学習を使ったマーケティング\n",
    "\n",
    "ポルトガルの銀行の電話でのダイレクトマーケティングのデータを使って、お客様が購入する見込みがあるかどうかを判定。\n",
    "今回のデータでは定期預金の契約をオススメするキャンペーンを行った結果、契約してもらえたかというデータを使用。\n",
    "\n",
    "特徴: お客様の情報や電話の回数\n",
    "目的: 定期預金を契約してくれるかどうか\n",
    "\n",
    "\n",
    "こちらのデータを元に作成。\n",
    "[Moro et al., 2014] S. Moro, P. Cortez and P. Rita.\n",
    "A Data-Driven Approach to Predict the Success of Bank Telemarketing.\n",
    "Decision Support Systems, Elsevier, 62:22-31, June 2014\n",
    "https://archive.ics.uci.edu/ml/datasets/Bank+Marketing"
   ]
  },
  {
   "cell_type": "code",
   "execution_count": 3,
   "metadata": {},
   "outputs": [
    {
     "data": {
      "text/html": [
       "<div>\n",
       "<style scoped>\n",
       "    .dataframe tbody tr th:only-of-type {\n",
       "        vertical-align: middle;\n",
       "    }\n",
       "\n",
       "    .dataframe tbody tr th {\n",
       "        vertical-align: top;\n",
       "    }\n",
       "\n",
       "    .dataframe thead th {\n",
       "        text-align: right;\n",
       "    }\n",
       "</style>\n",
       "<table border=\"1\" class=\"dataframe\">\n",
       "  <thead>\n",
       "    <tr style=\"text-align: right;\">\n",
       "      <th></th>\n",
       "      <th>年齢</th>\n",
       "      <th>職種</th>\n",
       "      <th>結婚</th>\n",
       "      <th>学歴</th>\n",
       "      <th>債務不履行</th>\n",
       "      <th>預金残高</th>\n",
       "      <th>住宅ローン</th>\n",
       "      <th>個人ローン</th>\n",
       "      <th>連絡手段</th>\n",
       "      <th>日</th>\n",
       "      <th>月</th>\n",
       "      <th>秒数</th>\n",
       "      <th>連絡回数</th>\n",
       "      <th>経過日数</th>\n",
       "      <th>事前連絡回数</th>\n",
       "      <th>前回の結果</th>\n",
       "      <th>結果</th>\n",
       "    </tr>\n",
       "  </thead>\n",
       "  <tbody>\n",
       "    <tr>\n",
       "      <th>0</th>\n",
       "      <td>42</td>\n",
       "      <td>4</td>\n",
       "      <td>1</td>\n",
       "      <td>2</td>\n",
       "      <td>0</td>\n",
       "      <td>2187</td>\n",
       "      <td>1</td>\n",
       "      <td>0</td>\n",
       "      <td>0</td>\n",
       "      <td>17</td>\n",
       "      <td>11</td>\n",
       "      <td>525</td>\n",
       "      <td>3</td>\n",
       "      <td>-1</td>\n",
       "      <td>0</td>\n",
       "      <td>3</td>\n",
       "      <td>1</td>\n",
       "    </tr>\n",
       "    <tr>\n",
       "      <th>1</th>\n",
       "      <td>67</td>\n",
       "      <td>5</td>\n",
       "      <td>1</td>\n",
       "      <td>2</td>\n",
       "      <td>0</td>\n",
       "      <td>701</td>\n",
       "      <td>0</td>\n",
       "      <td>0</td>\n",
       "      <td>0</td>\n",
       "      <td>6</td>\n",
       "      <td>8</td>\n",
       "      <td>254</td>\n",
       "      <td>2</td>\n",
       "      <td>-1</td>\n",
       "      <td>0</td>\n",
       "      <td>3</td>\n",
       "      <td>1</td>\n",
       "    </tr>\n",
       "    <tr>\n",
       "      <th>2</th>\n",
       "      <td>34</td>\n",
       "      <td>0</td>\n",
       "      <td>0</td>\n",
       "      <td>1</td>\n",
       "      <td>0</td>\n",
       "      <td>479</td>\n",
       "      <td>1</td>\n",
       "      <td>0</td>\n",
       "      <td>0</td>\n",
       "      <td>12</td>\n",
       "      <td>5</td>\n",
       "      <td>515</td>\n",
       "      <td>1</td>\n",
       "      <td>350</td>\n",
       "      <td>5</td>\n",
       "      <td>0</td>\n",
       "      <td>1</td>\n",
       "    </tr>\n",
       "  </tbody>\n",
       "</table>\n",
       "</div>"
      ],
      "text/plain": [
       "   年齢  職種  結婚  学歴  債務不履行  預金残高  住宅ローン  個人ローン  連絡手段   日   月   秒数  連絡回数  経過日数  \\\n",
       "0  42   4   1   2      0  2187      1      0     0  17  11  525     3    -1   \n",
       "1  67   5   1   2      0   701      0      0     0   6   8  254     2    -1   \n",
       "2  34   0   0   1      0   479      1      0     0  12   5  515     1   350   \n",
       "\n",
       "   事前連絡回数  前回の結果  結果  \n",
       "0       0      3   1  \n",
       "1       0      3   1  \n",
       "2       5      0   1  "
      ]
     },
     "execution_count": 3,
     "metadata": {},
     "output_type": "execute_result"
    }
   ],
   "source": [
    "import pandas as pd\n",
    "\n",
    "df = pd.read_csv('./bank.csv', index_col=0)\n",
    "df.head(3)"
   ]
  },
  {
   "cell_type": "code",
   "execution_count": 5,
   "metadata": {},
   "outputs": [],
   "source": [
    "## 説明変数 目的変数\n",
    "\n",
    "X = df.iloc[:, :-1].values\n",
    "y = df.iloc[:, -1].values"
   ]
  },
  {
   "cell_type": "code",
   "execution_count": 6,
   "metadata": {},
   "outputs": [],
   "source": [
    "import numpy as np\n",
    "from sklearn.model_selection import cross_val_score"
   ]
  },
  {
   "cell_type": "markdown",
   "metadata": {},
   "source": [
    "#### 決定木"
   ]
  },
  {
   "cell_type": "code",
   "execution_count": 9,
   "metadata": {},
   "outputs": [
    {
     "name": "stdout",
     "output_type": "stream",
     "text": [
      "正答率 0.72 標準偏差 +/- 0.08426149773176358\n"
     ]
    }
   ],
   "source": [
    "from sklearn.tree import DecisionTreeClassifier\n",
    "\n",
    "tree = DecisionTreeClassifier(random_state=0)\n",
    "scores = cross_val_score(tree, X, y, cv=10)\n",
    "\n",
    "print(\"正答率\", np.mean(scores), \"標準偏差 +/-\", np.std(scores))"
   ]
  },
  {
   "cell_type": "markdown",
   "metadata": {},
   "source": [
    "#### SVM"
   ]
  },
  {
   "cell_type": "code",
   "execution_count": 10,
   "metadata": {},
   "outputs": [
    {
     "name": "stdout",
     "output_type": "stream",
     "text": [
      "正答率 0.51 標準偏差 +/- 0.020000000000000018\n"
     ]
    }
   ],
   "source": [
    "from sklearn.svm import SVC\n",
    "\n",
    "svm = SVC(C=1, gamma='auto', random_state=0)\n",
    "scores = cross_val_score(svm, X, y, cv=10)\n",
    "\n",
    "print(\"正答率\", np.mean(scores), \"標準偏差 +/-\", np.std(scores))"
   ]
  },
  {
   "cell_type": "markdown",
   "metadata": {},
   "source": [
    "#### ロジスティック回帰"
   ]
  },
  {
   "cell_type": "code",
   "execution_count": 11,
   "metadata": {},
   "outputs": [
    {
     "name": "stdout",
     "output_type": "stream",
     "text": [
      "正答率 0.7500000000000001 標準偏差 +/- 0.1\n"
     ]
    }
   ],
   "source": [
    "from sklearn.linear_model import LogisticRegression\n",
    "\n",
    "lr = LogisticRegression(C=0.001, random_state=0, solver='liblinear')\n",
    "scores = cross_val_score(lr, X, y, cv=10)\n",
    "\n",
    "print(\"正答率\", np.mean(scores), \"標準偏差 +/-\", np.std(scores))"
   ]
  },
  {
   "cell_type": "markdown",
   "metadata": {},
   "source": [
    "## cross_val_score\n",
    "cv : 交差検証を何回行うか"
   ]
  },
  {
   "cell_type": "code",
   "execution_count": 17,
   "metadata": {},
   "outputs": [
    {
     "data": {
      "text/plain": [
       "array([0.85, 0.85, 0.6 , 0.65, 0.65, 0.85, 0.7 , 0.75, 0.9 , 0.7 ])"
      ]
     },
     "execution_count": 17,
     "metadata": {},
     "output_type": "execute_result"
    }
   ],
   "source": [
    "## Scores 出力\n",
    "scores"
   ]
  }
 ],
 "metadata": {
  "kernelspec": {
   "display_name": "Python 3",
   "language": "python",
   "name": "python3"
  },
  "language_info": {
   "codemirror_mode": {
    "name": "ipython",
    "version": 3
   },
   "file_extension": ".py",
   "mimetype": "text/x-python",
   "name": "python",
   "nbconvert_exporter": "python",
   "pygments_lexer": "ipython3",
   "version": "3.7.4"
  }
 },
 "nbformat": 4,
 "nbformat_minor": 4
}
